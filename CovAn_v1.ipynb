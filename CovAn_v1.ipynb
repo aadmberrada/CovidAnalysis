{
 "cells": [
  {
   "cell_type": "code",
   "execution_count": null,
   "id": "42aa8886-fa48-4902-8312-7ec10313ae16",
   "metadata": {},
   "outputs": [],
   "source": [
    "import warnings\n",
    "warnings.filterwarnings('ignore')\n",
    "import requests\n",
    "from bs4 import BeautifulSoup\n",
    "import numpy as np\n",
    "import re\n",
    "import pandas as pd \n",
    "import csv\n",
    "from typing import List\n",
    "from inspect import k\n",
    "import seaborn as sns\n",
    "\n",
    "\n",
    "\n",
    "import ssl\n",
    "ssl._create_default_https_context = ssl._create_unverified_context\n",
    "#verify= False"
   ]
  },
  {
   "cell_type": "code",
   "execution_count": null,
   "id": "4afa550a-5e00-485e-a84d-567ee97cdc85",
   "metadata": {
    "collapsed": true,
    "jupyter": {
     "outputs_hidden": true
    },
    "tags": []
   },
   "outputs": [],
   "source": [
    "def cas_morts():\n",
    "\n",
    "    url = \"https://www.worldometers.info/coronavirus/countries-where-coronavirus-has-spread/\"# specify the url\n",
    "    \n",
    "    page = requests.get(url, verify= False)# Nous faisons la connexion à la page web \n",
    "    # nous pouvons analyser le html avec BeautifulSoup\n",
    "    soup = BeautifulSoup(page.text, 'lxml') # stockant l’objet dans la variable « Soup »\n",
    "\n",
    "    data = [['Pays', 'Nombres de cas', 'Nombre de décés', 'Région'], ] # écrire les en-têtes de la  liste data\n",
    "    # Mettre en place des boucles à travers l’objet soup pour trouver des éléments\n",
    "    parent_table = soup.find('table', class_=re.compile(\"table\"), id='table3')# find results within table\n",
    "    for item in parent_table.find(\"tbody\").find_all(\"tr\"):# loop over results, find all columns per result\n",
    "        _data = item.find_all(\"td\") #chercher tous les balises td donc le contenu des colonnes\n",
    "        # nettoyage de données\n",
    "        if _data[0].string == \"Japan (+Diamond Princess)\": ## extract description from the name of the country :on remplace  \"Japan (+Diamond Princess)\" par \"Japon\"\n",
    "            _data[0].string = \"Japan\" \n",
    "            # write each result to rows\n",
    "        data.append([\n",
    "            _data[0].string, #1er élément de la liste d'indice 0 qui est le pays \n",
    "            str(_data[1].string).replace(\",\", \"\"), ## on supprime les caractères indésirables : on remplace la virgule par le vide dans le nombre de cas  \n",
    "            str(_data[2].string).replace(\",\", \"\"), #  on remplace la virgule par le vide dans le nombre de décès \n",
    "            _data[3].string,\n",
    "        ])\n",
    "\n",
    "    # affichage par ordre décroissant des nombre de cas confirmés\n",
    "    data.sort(key=lambda row: row[1], reverse=True)\n",
    "\n",
    "    #on crée un tableau numpy 2D\n",
    "    numpyArray_1 = np.array(data)\n",
    "    df1 = pd.DataFrame(numpyArray_1, columns= numpyArray_1[0])\n",
    "    df1 = df1.drop([0])\n",
    "    return numpyArray_1\n",
    "\n",
    "cas_morts()"
   ]
  },
  {
   "cell_type": "code",
   "execution_count": null,
   "id": "a0cab64a-1450-48ca-8f21-cb005ce328a8",
   "metadata": {
    "collapsed": true,
    "jupyter": {
     "outputs_hidden": true
    },
    "tags": []
   },
   "outputs": [],
   "source": [
    "def population():\n",
    "\n",
    "    url = \"https://www.worldometers.info/world-population/population-by-country/\"\n",
    "    \"\"\"\n",
    "    meme logique que cas_morts()\n",
    "    \"\"\"\n",
    "\n",
    "    page = requests.get(url, verify= False)\n",
    "    soup = BeautifulSoup(page.text, 'lxml')\n",
    "\n",
    "    data = [['Nom du pays', 'Population']]\n",
    "\n",
    "    for item in soup.select('table tbody tr'):\n",
    "        _data = item.find_all(\"td\")\n",
    "        data.append(\n",
    "            [\n",
    "                _data[1].string, #champ1 nom du pays\n",
    "                _data[2].string, #champ 2 Population\n",
    "            ]\n",
    "        )\n",
    "\n",
    "    numpyArray_2 = np.array(data)\n",
    "\n",
    "    df2 = pd.DataFrame(numpyArray_2, columns= numpyArray_2[0])\n",
    "    df2 = df2.drop([0])\n",
    "    return  numpyArray_2 #renvoie tableau numpy 2D\n",
    "\n",
    "population()"
   ]
  },
  {
   "cell_type": "code",
   "execution_count": null,
   "id": "dd3a8e36-f0f1-4d6a-8b98-d6a023ff11b2",
   "metadata": {
    "collapsed": true,
    "jupyter": {
     "outputs_hidden": true
    },
    "tags": []
   },
   "outputs": [],
   "source": [
    "def capitales_coordonnees():\n",
    "    \"\"\"\n",
    "    cette fonction recupere les les pays et leurs cordonnées.\n",
    "    On prend seulment les cas ou la capital est primaire.\n",
    "    \"\"\"\n",
    "    capitales_coordonnees = [] \n",
    "    input_file = open(\"worldcities.csv\", encoding=\"utf8\")\n",
    "    lines = input_file.readlines()  # Each line corresponds to a capital coordonnee\n",
    "    input_file.close()\n",
    "\n",
    "    data = {} #on crée un dictinnaire vide\n",
    "\n",
    "    for ligne in lines[1:]: # on saute l'en-tete\n",
    "        ligne = ligne.split(\",\")\n",
    "        if ligne[8] == \"primary\":  #si la ville est la capitale principale on garde ces coordonnes \n",
    "            pays, latitude, longitude = ligne[4], ligne[2], ligne[3] \n",
    "            if  data.get(pays,None) is None:\n",
    "                data[pays] =  [pays, latitude, longitude]\n",
    "    data = [['nom du pays', 'latitude', 'longitude'], ] + list(data.values())\n",
    "    numpyArray_3 = np.array(data)  #renvoie les valeurs du dict comme un numpy arrays 2D\n",
    "    df3 = pd.DataFrame(numpyArray_3, columns= numpyArray_3[0])\n",
    "    df3 = df3.drop([0])\n",
    "    return numpyArray_3\n",
    "\n",
    "capitales_coordonnees()"
   ]
  },
  {
   "cell_type": "code",
   "execution_count": null,
   "id": "614f6ea9-e0d9-4c19-9569-50f40a7d6535",
   "metadata": {},
   "outputs": [],
   "source": [
    "def donnees_completes():\n",
    "    '''\n",
    "    On va créer un fichier donnees_corona.csv à partir des trois tableaux numpy crés précidemment  : \n",
    "    '''\n",
    "    tab_cas_mort = cas_morts()\n",
    "    tab_population = population()\n",
    "    tab_longitude = capitales_coordonnees()\n",
    "    # on crée une liste data \n",
    "    data = [['pays', 'nombre de cas', 'nombre de décés', 'Region',\"population\",\"latitude\",\"longitude\"]]\n",
    "    for item in tab_cas_mort:\n",
    "        pays = item[0]\n",
    "        if pays in tab_population[:, 0] and pays in tab_longitude[:, 0]:\n",
    "            index_population = np.where(tab_population[:, 0] == pays)[0][0]\n",
    "            index_geos = np.where(tab_longitude[:, 0] == pays)[0][0]\n",
    "            _population = tab_population[index_population,1] \n",
    "            l = list(item)+ [_population.replace(\",\",\"\"),] + list(tab_longitude[index_geos][1:]) # on fait une concaténation des caractéristiques \n",
    "            data.append(list(map(str,l)))\n",
    "    \n",
    "    numpyArray = np.array(data)\n",
    "    pd.DataFrame(numpyArray).to_csv(\"donnees_corona.csv\", index=False, header=False)# convertir le tableau numpy en fichier cvs en utilisant pandas"
   ]
  },
  {
   "cell_type": "code",
   "execution_count": null,
   "id": "ecab8712-31bb-4de5-8eb0-6ca397c3fffb",
   "metadata": {},
   "outputs": [],
   "source": [
    "donnees_completes() "
   ]
  },
  {
   "cell_type": "code",
   "execution_count": null,
   "id": "e8362282-8dce-4f0f-becc-dbdb96169a80",
   "metadata": {},
   "outputs": [],
   "source": [
    "def tableau_donnees(file_name: str = \"donnees_corona.csv\"):\n",
    "    with open(file_name, 'r') as f:\n",
    "        \n",
    "        df = np.genfromtxt(\n",
    "            f, \n",
    "            dtype=str,\n",
    "            delimiter=',')\n",
    "        data = pd.DataFrame(df, columns = df[0])\n",
    "        data = data.drop([0])\n",
    "        return df\n",
    "df = tableau_donnees()"
   ]
  },
  {
   "cell_type": "code",
   "execution_count": null,
   "id": "a6483d73-506e-445d-b24e-9c67a5837663",
   "metadata": {},
   "outputs": [],
   "source": [
    "df"
   ]
  },
  {
   "cell_type": "code",
   "execution_count": null,
   "id": "7a73df31-4cb5-46c1-a5a6-d72e403da5a1",
   "metadata": {},
   "outputs": [],
   "source": [
    "def corona_par_region():\n",
    "    \"\"\"\n",
    "    on recupere data depuis le fichier en utilisant la fonction precedement codé \n",
    "    \"\"\"\n",
    "    data = tableau_donnees() #on utilise la fonction précedente pour avoir les data\n",
    "    final_result = [['Region','Cases','Deaths','population']]\n",
    "    data = data[1:, [1, 2, 3, 4]]\n",
    "    result = pd.DataFrame(data,columns=['Cases','Deaths','Region','population'])\n",
    "    result['Cases'] = result['Cases'].astype(int)  #on convertie en int\n",
    "    result['Deaths'] = result['Deaths'].astype(int)\n",
    "    result['population'] = result['population'].astype(int)\n",
    "    result = result.groupby(\"Region\").sum()\n",
    "    _index = list(result.index.values)\n",
    "    for item in zip(_index,result.to_numpy()):\n",
    "        final_result.append(\n",
    "            [\n",
    "                item[0],\n",
    "                *item[1]\n",
    "            ]\n",
    "        )\n",
    "    data = pd.DataFrame(np.array(final_result), columns = [\"Region\",\"Case\", \"Deaths\", \"population\"])\n",
    "    cor_reg= data.drop([0])\n",
    "    return cor_reg\n",
    "\n",
    "cor_reg = corona_par_region()"
   ]
  },
  {
   "cell_type": "code",
   "execution_count": null,
   "id": "e66699fd-464b-450f-9cb6-5eea6ae190b5",
   "metadata": {},
   "outputs": [],
   "source": [
    "cor_reg"
   ]
  },
  {
   "cell_type": "code",
   "execution_count": null,
   "id": "0ef873b5-3286-49cb-9570-b13f9b076d80",
   "metadata": {},
   "outputs": [],
   "source": [
    "def corona_par_pays(pays:List=None):\n",
    "    data = tableau_donnees()[1:]\n",
    "    result = [['Country',\"Cases/M\",\"Deaths/M\",\"population\",\"latitude\", \"longitude\"]]\n",
    "    result = []#on crée une liste vide que on va par la suite remplir\n",
    "    if pays:\n",
    "        _index = np.in1d(data[:,0],pays)\n",
    "        data = data[_index]\n",
    "    for item in data:\n",
    "        result.append(\n",
    "            [\n",
    "                item[0],\n",
    "                int(item[1])/int(item[4])*1000000, #on convertie en int pour avoir le nombre de cas par milliers d'habitants  et on divise le nombre de cas par le nombre de population et on multiplie par 1000000\n",
    "                int(item[2])/int(item[4])*1000000, #on convertie en int pour avoir le nombre de décès par milliers d'habitants  et on divise le nombre de décès par le nombre de population et on multiplie par 1000000\n",
    "                int(item[4]), #on convertie en int\n",
    "                float(item[5]), #on convertie en float\n",
    "                float(item[6]) #on convertie en float\n",
    "\n",
    "            ]\n",
    "        )\n",
    "    array = np.array(result) #on transforme en tableau  numpy 2D\n",
    "    data = pd.DataFrame(array, columns = array[0])\n",
    "    data= data.drop([0])\n",
    "    return array \n"
   ]
  },
  {
   "cell_type": "code",
   "execution_count": null,
   "id": "a694e204-9c22-454b-a01b-9b41efec6faf",
   "metadata": {},
   "outputs": [],
   "source": [
    "corona_par_pays()"
   ]
  },
  {
   "cell_type": "code",
   "execution_count": null,
   "id": "40e83e01-eb87-492b-b4f2-2999fae262cc",
   "metadata": {},
   "outputs": [],
   "source": [
    "def donnees_pire_pays(k:int,n:int=0):\n",
    "    \"\"\"\n",
    "    fonction qui prend comme input le nbr des pays(k) et le nbr d'habitants (n)\n",
    "    donne en output les données selon nbr de déces par habitants (ordre decroissant)\n",
    "    \"\"\"\n",
    "    data = corona_par_pays()\n",
    "    result = data[:,3].astype(int)>n #index\n",
    "    data = data[result]\n",
    "    data = data[data[:,2].astype(float).argsort()][::-1]#on convertie le nombre de décès en float et on organise les pays selon le nombre de décès par millier d'habitants \n",
    "    if k==0:\n",
    "        return data \n",
    "    return data[:k]"
   ]
  },
  {
   "cell_type": "code",
   "execution_count": null,
   "id": "290ccb09-f152-4ec0-92fb-fb2d9f6eb150",
   "metadata": {},
   "outputs": [],
   "source": [
    "donnees_pire_pays(k=2)"
   ]
  },
  {
   "cell_type": "code",
   "execution_count": null,
   "id": "57beccd1-4542-437e-afef-b686d900d3e8",
   "metadata": {},
   "outputs": [],
   "source": []
  },
  {
   "cell_type": "code",
   "execution_count": null,
   "id": "ea7b72d4-64c1-4420-be02-0fb390f13828",
   "metadata": {
    "collapsed": true,
    "jupyter": {
     "outputs_hidden": true,
     "source_hidden": true
    },
    "tags": []
   },
   "outputs": [],
   "source": [
    "pip install --trusted-host pypi.org --trusted-host files.pythonhosted.org cartopy"
   ]
  },
  {
   "cell_type": "code",
   "execution_count": null,
   "id": "49c68e97-09ec-4364-9a33-028ed868ba93",
   "metadata": {
    "collapsed": true,
    "jupyter": {
     "outputs_hidden": true,
     "source_hidden": true
    },
    "tags": []
   },
   "outputs": [],
   "source": [
    "conda install -c condo-forge cartopy"
   ]
  },
  {
   "cell_type": "code",
   "execution_count": null,
   "id": "47545bbb-8291-44bd-8b53-8411803b75b4",
   "metadata": {},
   "outputs": [],
   "source": [
    "#import cartopy.crs as ccrs\n",
    "#from statistiques_corona import corona_par_region, donnees_pire_pays, tableau_donnees\n",
    "\n",
    "#plt.figure(figsize=(20, 3))\n",
    "\n",
    "filename='donnees_corona.csv'\n",
    "def tableau_donnees():\n",
    "  \n",
    "    return  np.genfromtxt(filename, delimiter=',',names=True,dtype=None,encoding='utf8')\n",
    "\n",
    "\n",
    "def camenbertdeaths_region():\n",
    "    \"\"\"\n",
    "    afficher camebert des mort en utlisant l'output de la fonction corona_par_region\n",
    "    \"\"\"\n",
    "    regions = cor_reg.iloc[1:,0]\n",
    "    \n",
    "    deaths = cor_reg.iloc[1:,2]\n",
    "    fig1, ax1 = plt.subplots()\n",
    "    ax1.pie(deaths,labels=regions, autopct='%1.1f%%')\n",
    "    ax1.axis('equal')\n",
    "    plt.savefig(\"deaths_by_region.png\")"
   ]
  },
  {
   "cell_type": "code",
   "execution_count": null,
   "id": "5e198529-632a-4b1f-b5a7-ce205bd9d88b",
   "metadata": {},
   "outputs": [],
   "source": [
    "camenbertdeaths_region()"
   ]
  },
  {
   "cell_type": "code",
   "execution_count": null,
   "id": "26bb8cfb-9d8b-4f85-a04b-3cd287ac91e2",
   "metadata": {},
   "outputs": [],
   "source": [
    "def camenbertcases_region():\n",
    "    \"\"\"\n",
    "    afficher camebert des cas en utlisant l'output de la fonction corona_par_region\n",
    "    meme logique que la fonction précedente. \n",
    "    \"\"\"\n",
    "    regions = cor_reg.iloc[1:,0]\n",
    "    \n",
    "    deaths = cor_reg.iloc[1:,2]\n",
    "    fig1, ax1 = plt.subplots()\n",
    "    ax1.pie(deaths,labels=regions, autopct='%1.1f%%')\n",
    "    ax1.axis('equal')\n",
    "    plt.pie(deaths, labels = regions)\n",
    "    plt.savefig(\"cases_by_regions.png\")"
   ]
  },
  {
   "cell_type": "code",
   "execution_count": null,
   "id": "2439539b-347d-4657-b794-2431c6337445",
   "metadata": {},
   "outputs": [],
   "source": [
    "camenbertcases_region()"
   ]
  },
  {
   "cell_type": "code",
   "execution_count": null,
   "id": "94c1fa5d-e333-40d0-ba82-d4ca8f6b30a1",
   "metadata": {},
   "outputs": [],
   "source": [
    "def baton_mort_pays(countries=[]):\n",
    "    \"\"\"\n",
    "    afficher le nbr de morts des pays choisi en argument sous forme de formed de diagramme en baton\n",
    "    \"\"\"\n",
    "    data = tableau_donnees()\n",
    "    if countries:\n",
    "        _index = np.in1d(data[:,0],countries)\n",
    "        data = data[_index]\n",
    "    labels = list(data[:,0])\n",
    "    deaths = list(data[:,2].astype(int))\n",
    "    width = 0.2       \n",
    "    fig, ax = plt.subplots()\n",
    "\n",
    "    ax.bar(labels, deaths, width, label='deaths')\n",
    "    ax.set_ylabel('Deaths')\n",
    "    ax.set_title(' Deaths by country')\n",
    "    ax.legend()\n",
    "\n",
    "    plt.savefig(\"death_by_country.png\")"
   ]
  },
  {
   "cell_type": "code",
   "execution_count": null,
   "id": "210c0a39-1a6b-458d-ad9c-b59f34863b81",
   "metadata": {},
   "outputs": [],
   "source": [
    "def baton_cas_pays(countries=[]):\n",
    "    \"\"\"\n",
    "    afficher le nbr de cas des pays choisi en argument sous forme de formed de diagramme en baton\n",
    "    \"\"\"\n",
    "    data = tableau_donnees()[1:]\n",
    "    if countries:\n",
    "        _index = np.in1d(data[:,0],countries)\n",
    "        data = data[_index]\n",
    "    labels = list(data[:,0])\n",
    "    cases = list(data[:,1].astype(int))\n",
    "    width = 0.9     \n",
    "    fig, ax = plt.subplots()\n",
    "    ax.bar(labels, cases, width, label='cases')\n",
    "    ax.set_ylabel('Cases')\n",
    "    ax.set_title('Cases by country')\n",
    "    ax.legend()\n",
    "    plt.savefig(\"cases_by_country.png\")"
   ]
  },
  {
   "cell_type": "code",
   "execution_count": null,
   "id": "cdca1426-7cdb-40db-b955-8e522c6d03bc",
   "metadata": {},
   "outputs": [],
   "source": []
  },
  {
   "cell_type": "code",
   "execution_count": null,
   "id": "a3a33d3c-cf88-4bd4-96bb-8104ad89da8c",
   "metadata": {},
   "outputs": [],
   "source": [
    "def pire_baton_mort(k,n=0):\n",
    "    \"\"\"\n",
    "    afficher les nombre de cas des K pays les plus touché par la pandémie. k et n étant des parametres.\n",
    "    \"\"\"\n",
    "    morts=donnees_pire_pays(k,n)  #on utilise la fonction précedement codé\n",
    "    pays = morts[:,0]\n",
    "    mort = morts[:,2].astype(float) # on convertie en float \n",
    "    sns.barplot(pays,mort)   #nous traçons le graph\n",
    "    plt.xlabel(\"pays\")\n",
    "    plt.ylabel(\"morts en million\")\n",
    "    plt.savefig(\"baton_pire_pays.png\")"
   ]
  },
  {
   "cell_type": "code",
   "execution_count": null,
   "id": "805d6a22-738c-4372-8975-5b5ee1e1d685",
   "metadata": {},
   "outputs": [],
   "source": [
    "plt.figure(figsize = (10, 6))\n",
    "pire_baton_mort(10)"
   ]
  },
  {
   "cell_type": "code",
   "execution_count": null,
   "id": "fbbd9c91-5999-43d2-bdb6-630c72a80f29",
   "metadata": {},
   "outputs": [],
   "source": [
    "def carte(k=0):\n",
    "    \"\"\"\n",
    "    dessine une carte du monde,sur laquelle on  met k cercles avec le centre dans les capitales des\n",
    "    k pays ayant le plus de morts par millions d’habitants.\n",
    "    \"\"\" \n",
    "\n",
    "    morts=donnees_pire_pays(k,0)\n",
    "    lon = morts[:,5].astype(float)\n",
    "    lat = morts[:,4].astype(float)\n",
    "    death = morts[:,2].astype(float)\n",
    "    plt.figure(figsize=(20,10))\n",
    "    ax = plt.axes(projection=ccrs.PlateCarree())\n",
    "    ax.stock_img()\n",
    "    ax.coastlines()\n",
    "    \n",
    "    plt.scatter(x=lon, y=lat,\n",
    "        color=\"orangered\",\n",
    "        s=death,\n",
    "        alpha=0.8,\n",
    "        transform=ccrs.PlateCarree()) ## Important\n",
    "    plt.savefig(\"carte.png\")\n",
    "\n",
    "# carte()"
   ]
  },
  {
   "cell_type": "code",
   "execution_count": null,
   "id": "270f837c-c6ad-410e-8526-900fa4cafb6b",
   "metadata": {},
   "outputs": [],
   "source": []
  }
 ],
 "metadata": {
  "kernelspec": {
   "display_name": "Python 3",
   "language": "python",
   "name": "python3"
  },
  "language_info": {
   "codemirror_mode": {
    "name": "ipython",
    "version": 3
   },
   "file_extension": ".py",
   "mimetype": "text/x-python",
   "name": "python",
   "nbconvert_exporter": "python",
   "pygments_lexer": "ipython3",
   "version": "3.8.8"
  }
 },
 "nbformat": 4,
 "nbformat_minor": 5
}
